{
 "cells": [
  {
   "cell_type": "code",
   "execution_count": 1,
   "id": "a5a36895-0d32-4403-949a-afa23d89db42",
   "metadata": {},
   "outputs": [],
   "source": [
    "# OOPS\n",
    "class HouseBlueprint:\n",
    "    owner=\"krishna\"\n",
    "    location=\"Jaipur\" #class variable"
   ]
  },
  {
   "cell_type": "code",
   "execution_count": 17,
   "id": "2ee30cb2-4b82-459b-a829-d64bea44aa2a",
   "metadata": {},
   "outputs": [
    {
     "name": "stdout",
     "output_type": "stream",
     "text": [
      "Jaipur\n"
     ]
    }
   ],
   "source": [
    "print(HouseBlueprint.location)"
   ]
  },
  {
   "cell_type": "code",
   "execution_count": 9,
   "id": "ab031631-b3e4-4ad8-8259-e895767b9115",
   "metadata": {},
   "outputs": [
    {
     "name": "stdout",
     "output_type": "stream",
     "text": [
      "Jaipur\n"
     ]
    }
   ],
   "source": [
    "# object=class()\n",
    "house1=HouseBlueprint()\n",
    "print(house1.location)   #object.variable"
   ]
  },
  {
   "cell_type": "code",
   "execution_count": 6,
   "id": "3a7ce4bf-75a2-40fe-b230-33e017090241",
   "metadata": {},
   "outputs": [
    {
     "name": "stdout",
     "output_type": "stream",
     "text": [
      "Jaipur\n"
     ]
    }
   ],
   "source": [
    "house2=HouseBlueprint()\n",
    "print(house2.location)"
   ]
  },
  {
   "cell_type": "code",
   "execution_count": 13,
   "id": "eb60c176-b1c7-4a10-b9a6-83c5b5f4e7bd",
   "metadata": {},
   "outputs": [
    {
     "name": "stdout",
     "output_type": "stream",
     "text": [
      "kidnap se pehle: krishna\n",
      "kidnap ke baad: naman\n"
     ]
    }
   ],
   "source": [
    "house1=HouseBlueprint()\n",
    "print(\"kidnap se pehle:\",house1.owner)\n",
    "house1.owner=\"naman\"                      #changing object data\n",
    "print(\"kidnap ke baad:\",house1.owner)"
   ]
  },
  {
   "cell_type": "code",
   "execution_count": 18,
   "id": "0032dc51-0e5b-46a0-a8d3-7a4c01673716",
   "metadata": {},
   "outputs": [
    {
     "name": "stdout",
     "output_type": "stream",
     "text": [
      "krishna\n"
     ]
    }
   ],
   "source": [
    "house2=HouseBlueprint()\n",
    "print(house2.owner)"
   ]
  },
  {
   "cell_type": "code",
   "execution_count": 26,
   "id": "1a8c96f6-e56d-4dc4-b12c-590358620208",
   "metadata": {},
   "outputs": [],
   "source": [
    "class HouseBlueprint:\n",
    "    color=\"white\"\n",
    "\n",
    "    def info(self):\n",
    "        print(\"My house color is\",self.color)"
   ]
  },
  {
   "cell_type": "code",
   "execution_count": 27,
   "id": "d72613d4-f541-4d1d-b48f-e7e4ef00f389",
   "metadata": {},
   "outputs": [
    {
     "name": "stdout",
     "output_type": "stream",
     "text": [
      "My house color is light green\n"
     ]
    }
   ],
   "source": [
    "h1=HouseBlueprint()\n",
    "h1.color=\"light green\"\n",
    "h1.info()"
   ]
  },
  {
   "cell_type": "code",
   "execution_count": 28,
   "id": "ab93baa8-6430-4c34-bcf8-077e8ce66192",
   "metadata": {},
   "outputs": [],
   "source": [
    "# default constructor\n",
    "class HouseBlueprint:\n",
    "    color=\"white\""
   ]
  },
  {
   "cell_type": "code",
   "execution_count": 33,
   "id": "dc6ca68d-3055-4f8c-bec3-7772fa072e94",
   "metadata": {},
   "outputs": [],
   "source": [
    "# parameterised constructor\n",
    "class HouseBlueprint:\n",
    "    def __init__(self):\n",
    "        print(\"construtor\",self) #self is a variable is nothing"
   ]
  },
  {
   "cell_type": "code",
   "execution_count": 34,
   "id": "349591bb-3bde-4cf2-b184-80b3ef192245",
   "metadata": {},
   "outputs": [
    {
     "name": "stdout",
     "output_type": "stream",
     "text": [
      "construtor <__main__.HouseBlueprint object at 0x000001DE59873520>\n"
     ]
    },
    {
     "data": {
      "text/plain": [
       "<__main__.HouseBlueprint at 0x1de59873520>"
      ]
     },
     "execution_count": 34,
     "metadata": {},
     "output_type": "execute_result"
    }
   ],
   "source": [
    "HouseBlueprint()"
   ]
  },
  {
   "cell_type": "code",
   "execution_count": 35,
   "id": "575175e6-65e9-4c3f-a8a9-e1d8d5c2dbbd",
   "metadata": {},
   "outputs": [
    {
     "name": "stdout",
     "output_type": "stream",
     "text": [
      "construtor <__main__.HouseBlueprint object at 0x000001DE59982E60>\n",
      "<__main__.HouseBlueprint object at 0x000001DE59982E60>\n"
     ]
    }
   ],
   "source": [
    "house1 = HouseBlueprint()\n",
    "print(house1)"
   ]
  },
  {
   "cell_type": "code",
   "execution_count": 32,
   "id": "8480da37-248d-4301-b22a-b2e1bae30f9d",
   "metadata": {},
   "outputs": [
    {
     "name": "stdout",
     "output_type": "stream",
     "text": [
      "construtor ko call kia\n"
     ]
    },
    {
     "data": {
      "text/plain": [
       "<__main__.HouseBlueprint at 0x1de599276d0>"
      ]
     },
     "execution_count": 32,
     "metadata": {},
     "output_type": "execute_result"
    }
   ],
   "source": [
    "HouseBlueprint()"
   ]
  },
  {
   "cell_type": "code",
   "execution_count": 37,
   "id": "fdaae1f0-338c-46b2-b5b6-64f61e7ba2c0",
   "metadata": {},
   "outputs": [
    {
     "name": "stdout",
     "output_type": "stream",
     "text": [
      "construtor <__main__.HouseBlueprint object at 0x000001DE5996CE20>\n",
      "<__main__.HouseBlueprint object at 0x000001DE5996CE20>\n"
     ]
    }
   ],
   "source": [
    "house2=HouseBlueprint()\n",
    "print(house2)"
   ]
  },
  {
   "cell_type": "code",
   "execution_count": 38,
   "id": "715cdd15-4e3a-454d-a83c-203000e338cd",
   "metadata": {},
   "outputs": [
    {
     "name": "stdout",
     "output_type": "stream",
     "text": [
      "construtor\n",
      "<__main__.HouseBlueprint object at 0x000001DE5996E3B0>\n"
     ]
    }
   ],
   "source": [
    "class HouseBlueprint:\n",
    "    def __init__(self):\n",
    "        print(\"construtor\")\n",
    "\n",
    "\n",
    "# object\n",
    "h1=HouseBlueprint()\n",
    "print(h1)"
   ]
  },
  {
   "cell_type": "code",
   "execution_count": 43,
   "id": "a0037de1-4563-421d-85d6-1ec3fa29c155",
   "metadata": {},
   "outputs": [
    {
     "name": "stdout",
     "output_type": "stream",
     "text": [
      "construtor: yellow\n",
      "<__main__.HouseBlueprint object at 0x000001DE59983DC0>\n"
     ]
    }
   ],
   "source": [
    "class HouseBlueprint:\n",
    "    def __init__(self,x):\n",
    "        print(\"construtor:\",x)\n",
    "\n",
    "\n",
    "# object\n",
    "h1=HouseBlueprint(\"yellow\")\n",
    "print(h1)"
   ]
  },
  {
   "cell_type": "code",
   "execution_count": 46,
   "id": "fe880625-ceb7-4312-8281-f2b017fc8262",
   "metadata": {},
   "outputs": [
    {
     "name": "stdout",
     "output_type": "stream",
     "text": [
      "yellow\n"
     ]
    }
   ],
   "source": [
    "class HouseBlueprint:\n",
    "    def __init__(self,x):\n",
    "        self.color=x\n",
    "        \n",
    "\n",
    "\n",
    "# object\n",
    "h1=HouseBlueprint(\"yellow\")\n",
    "print(h1.color)"
   ]
  },
  {
   "cell_type": "code",
   "execution_count": 47,
   "id": "2491d40c-f92c-4e09-8853-20e97c4cbf99",
   "metadata": {},
   "outputs": [
    {
     "name": "stdout",
     "output_type": "stream",
     "text": [
      "green\n"
     ]
    }
   ],
   "source": [
    "# object\n",
    "h2=HouseBlueprint(\"green\")\n",
    "print(h2.color)"
   ]
  },
  {
   "cell_type": "code",
   "execution_count": 1,
   "id": "5389ba37-e9bb-40f4-85a1-b75127a11e4e",
   "metadata": {},
   "outputs": [],
   "source": [
    "class Employee:\n",
    "    def __init__(self, emp_id, emp_name, emp_gmail):\n",
    "        self.empid = emp_id\n",
    "        self.empname = emp_name\n",
    "        self.empgmail = emp_gmail\n",
    "        print(\"Constructor:\", self)  \n",
    "\n",
    "    def info(self):\n",
    "        print(f\"Employee ID: {self.empid}\")\n",
    "        print(f\"Employee Name: {self.empname}\")\n",
    "        print(f\"Employee Gmail: {self.empgmail}\")"
   ]
  },
  {
   "cell_type": "code",
   "execution_count": 2,
   "id": "3173e544-2492-47a1-bf52-a4fb41daf29f",
   "metadata": {},
   "outputs": [
    {
     "name": "stdout",
     "output_type": "stream",
     "text": [
      "Constructor: <__main__.Employee object at 0x000002590B0526B0>\n",
      "Employee ID: 101\n",
      "Employee Name: John Doe\n",
      "Employee Gmail: john.doe@example.com\n"
     ]
    }
   ],
   "source": [
    "emp1 = Employee(101, \"John Doe\", \"john.doe@example.com\")\n",
    "emp1.info()"
   ]
  },
  {
   "cell_type": "code",
   "execution_count": null,
   "id": "42ce93e6-d831-4b88-bd26-2523a447e033",
   "metadata": {},
   "outputs": [],
   "source": []
  }
 ],
 "metadata": {
  "kernelspec": {
   "display_name": "Python 3 (ipykernel)",
   "language": "python",
   "name": "python3"
  },
  "language_info": {
   "codemirror_mode": {
    "name": "ipython",
    "version": 3
   },
   "file_extension": ".py",
   "mimetype": "text/x-python",
   "name": "python",
   "nbconvert_exporter": "python",
   "pygments_lexer": "ipython3",
   "version": "3.10.11"
  }
 },
 "nbformat": 4,
 "nbformat_minor": 5
}
